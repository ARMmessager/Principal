{
 "cells": [
  {
   "cell_type": "code",
   "execution_count": null,
   "metadata": {},
   "outputs": [],
   "source": [
    "#OUTILS POUR LIRE LES EXCELS ET CSV\n",
    "\n",
    "\n",
    "import pandas as pd\n",
    "\n",
    "# Define the file paths\n",
    "csv_file_path = 'path/to/your/file.csv'\n",
    "xlsx_file_path = 'path/to/your/file.xlsx'\n",
    "\n",
    "# Read CSV file into a DataFrame\n",
    "csv_df = pd.read_csv(csv_file_path)\n",
    "# or csv_df = pd.read_csv(csv_file_path, delimiter=';')\n",
    "\n",
    "# Read Excel file into a DataFrame\n",
    "xlsx_df = pd.read_excel(xlsx_file_path)\n",
    "# or xlsx_df = pd.read_excel(xlsx_file_path, sheet_name='Sheet1')\n",
    "\n",
    "# Print the dataframes to verify\n",
    "print(\"CSV DataFrame:\")\n",
    "print(csv_df.head())\n",
    "\n",
    "print(\"\\nExcel DataFrame:\")\n",
    "print(xlsx_df.head())"
   ]
  }
 ],
 "metadata": {
  "kernelspec": {
   "display_name": "base",
   "language": "python",
   "name": "python3"
  },
  "language_info": {
   "name": "python",
   "version": "3.11.7"
  }
 },
 "nbformat": 4,
 "nbformat_minor": 2
}



import pandas as pd
import matplotlib.pyplot as plt

# Exemple de contenu CSV pour les données de l'Empire State Index
csv_content = """
Date,Index
2024-01-01,500
2024-02-01,520
2024-03-01,510
2024-04-01,530
2024-05-01,540
2024-06-01,550
2024-07-01,560
2024-08-01,570
2024-09-01,580
2024-10-01,590
2024-11-01,600
2024-12-01,610
"""

# Sauvegarder le contenu CSV dans un fichier
file_path = 'empire_state_index.csv'
with open(file_path, 'w') as file:
    file.write(csv_content)

# Lire le fichier CSV
data = pd.read_csv(file_path)

# Convertir la colonne Date en type datetime et définir comme index
data['Date'] = pd.to_datetime(data['Date'])
data.set_index('Date', inplace=True)

# Définir une fonction pour filtrer les données entre deux dates
def filter_data_between_dates(data, start_date, end_date):
    return data.loc[start_date:end_date]

# Définir les dates de début et de fin
start_date = '2024-03-01'
end_date = '2024-09-01'

# Filtrer les données
filtered_data = filter_data_between_dates(data, start_date, end_date)

# Tracer le graphique avec les données filtrées
plt.figure(figsize=(10, 6))
plt.plot(filtered_data.index.year, filtered_data['Index'], marker='o', linestyle='-', color='b')
plt.title('Empire State Index Over Time')
plt.xlabel('Year')
plt.ylabel('Index Value')
plt.grid(True)
plt.xticks(rotation=45)
plt.tight_layout()

# Afficher le graphique
plt.show()
