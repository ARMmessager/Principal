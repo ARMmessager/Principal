{
 "cells": [
  {
   "cell_type": "code",
   "execution_count": null,
   "metadata": {},
   "outputs": [],
   "source": [
    "#OUTILS POUR LIRE LES EXCELS ET CSV\n",
    "\n",
    "\n",
    "import pandas as pd\n",
    "\n",
    "# Define the file paths\n",
    "csv_file_path = 'path/to/your/file.csv'\n",
    "xlsx_file_path = 'path/to/your/file.xlsx'\n",
    "\n",
    "# Read CSV file into a DataFrame\n",
    "csv_df = pd.read_csv(csv_file_path)\n",
    "# or csv_df = pd.read_csv(csv_file_path, delimiter=';')\n",
    "\n",
    "# Read Excel file into a DataFrame\n",
    "xlsx_df = pd.read_excel(xlsx_file_path)\n",
    "# or xlsx_df = pd.read_excel(xlsx_file_path, sheet_name='Sheet1')\n",
    "\n",
    "# Print the dataframes to verify\n",
    "print(\"CSV DataFrame:\")\n",
    "print(csv_df.head())\n",
    "\n",
    "print(\"\\nExcel DataFrame:\")\n",
    "print(xlsx_df.head())"
   ]
  }
 ],
 "metadata": {
  "kernelspec": {
   "display_name": "base",
   "language": "python",
   "name": "python3"
  },
  "language_info": {
   "name": "python",
   "version": "3.11.7"
  }
 },
 "nbformat": 4,
 "nbformat_minor": 2
}
