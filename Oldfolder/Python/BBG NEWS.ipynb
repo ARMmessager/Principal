from xbbg import blp
import pandas as pd

# Define function to retrieve the latest news
def get_latest_news():
    # The 'blp.news' method fetches news headlines from Bloomberg.
    news = blp.news(ticker='ALLX CN')  # 'ALLX CN' represents a general ticker for news (Canada in this example)

    # Convert the news to a pandas DataFrame for easy viewing
    news_df = pd.DataFrame(news)

    return news_df

# Fetch and display the latest news
latest_news = get_latest_news()
print(latest_news)
