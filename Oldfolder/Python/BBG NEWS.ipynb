{
 "cells": [
  {
   "cell_type": "code",
   "execution_count": null,
   "metadata": {},
   "outputs": [],
   "source": [
    "import blpapi\n",
    "import datetime\n",
    "import sys\n",
    "\n",
    "# Bloomberg constants\n",
    "NEWS_SERVICE = \"//blp/news\"\n",
    "NEWS_REQUEST = \"NewsSearch\"\n",
    "\n",
    "# Bloomberg session options\n",
    "def create_session():\n",
    "    session_options = blpapi.SessionOptions()\n",
    "    session_options.setServerHost('localhost')  # Adjust this as necessary\n",
    "    session_options.setServerPort(8194)  # Adjust this as necessary\n",
    "\n",
    "    session = blpapi.Session(session_options)\n",
    "    if not session.start():\n",
    "        print(\"Failed to start session.\")\n",
    "        sys.exit(1)\n",
    "\n",
    "    if not session.openService(NEWS_SERVICE):\n",
    "        print(f\"Failed to open {NEWS_SERVICE}\")\n",
    "        sys.exit(1)\n",
    "\n",
    "    return session\n",
    "\n",
    "# Create and send news request\n",
    "def send_news_request(session):\n",
    "    news_service = session.getService(NEWS_SERVICE)\n",
    "    request = news_service.createRequest(NEWS_REQUEST)\n",
    "\n",
    "    # Set any filters, such as the time range\n",
    "    request.set(\"queryText\", \"latest\")  # Fetch the latest news\n",
    "    request.set(\"startDateTime\", datetime.datetime.now() - datetime.timedelta(days=1))\n",
    "    request.set(\"endDateTime\", datetime.datetime.now())\n",
    "\n",
    "    session.sendRequest(request)\n",
    "\n",
    "# Process Bloomberg responses\n",
    "def process_response(session):\n",
    "    while True:\n",
    "        event = session.nextEvent()\n",
    "        for msg in event:\n",
    "            if msg.messageType() == \"NewsStory\":\n",
    "                story = msg.getElementAsString(\"story\")\n",
    "                print(f\"News story: {story}\")\n",
    "\n",
    "        if event.eventType() == blpapi.Event.RESPONSE:\n",
    "            break\n",
    "\n",
    "def main():\n",
    "    session = create_session()\n",
    "    send_news_request(session)\n",
    "    process_response(session)\n",
    "\n",
    "    session.stop()\n",
    "\n",
    "if __name__ == \"__main__\":\n",
    "    main()"
   ]
  }
 ],
 "metadata": {
  "language_info": {
   "name": "python"
  }
 },
 "nbformat": 4,
 "nbformat_minor": 2
}



from xbbg import blp
import pandas as pd

# Define function to retrieve the latest news
def get_latest_news():
    # The 'blp.news' method fetches news headlines from Bloomberg.
    news = blp.news(ticker='ALLX CN')  # 'ALLX CN' represents a general ticker for news (Canada in this example)

    # Convert the news to a pandas DataFrame for easy viewing
    news_df = pd.DataFrame(news)

    return news_df

# Fetch and display the latest news
latest_news = get_latest_news()
print(latest_news)
